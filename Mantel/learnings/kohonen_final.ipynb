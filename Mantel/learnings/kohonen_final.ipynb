{
 "cells": [
  {
   "cell_type": "markdown",
   "metadata": {},
   "source": [
    "### Imports"
   ]
  },
  {
   "cell_type": "code",
   "execution_count": null,
   "metadata": {},
   "outputs": [],
   "source": [
    "import matplotlib.pyplot as plt\n",
    "import matplotlib.image as mpimg\n",
    "\n",
    "import numpy as np\n",
    "import time"
   ]
  },
  {
   "cell_type": "markdown",
   "metadata": {},
   "source": [
    "### Original Optimized"
   ]
  },
  {
   "cell_type": "code",
   "execution_count": null,
   "metadata": {},
   "outputs": [],
   "source": [
    "def trainSOM(input_data, n_max_iterations, width, height):\n",
    "    \n",
    "    radius_0 = max(width, height) / 2\n",
    "    lr_0 = 0.1\n",
    "    weights = np.random.random((width, height, 3)) # Shape: (width, height, 3)\n",
    "    lambda_val = n_max_iterations / np.log(radius_0) # Shape: (0) Scalar\n",
    "\n",
    "    # Precompute grid coordinates\n",
    "    x_coords, y_coords = np.meshgrid(np.arange(width), np.arange(height), indexing='ij') # Shape: (width, height), (width height)\n",
    "    grid = np.stack([x_coords, y_coords], axis=-1)  # Shape: (width, height, 2)\n",
    "\n",
    "    for t in range(n_max_iterations):\n",
    "        if t % 10 == 0:\n",
    "            print(f\"Iteration: {t}\")\n",
    "\n",
    "        radius_t = radius_0 * np.exp(-t / lambda_val) # Shape: (0) Scalar\n",
    "        lr_t = lr_0 * np.exp(-t / lambda_val) # Shape: (0) Scalar\n",
    "\n",
    "        for vt in input_data:\n",
    "            # Compute distance from vt to each neuron\n",
    "            distances = np.linalg.norm(weights - vt, axis=2) # Shape: (width, height, 3)\n",
    "            bmu_index = np.unravel_index(np.argmin(distances), (width, height))\n",
    "            bmu_vector = np.array(bmu_index) # Shape: (2,)\n",
    "\n",
    "            # Compute neighborhood function\n",
    "            diff = grid - bmu_vector  # Shape: (width, height, 2)\n",
    "            dist_sq = np.sum(diff ** 2, axis=2)  # Shape: (width, height)\n",
    "            influence_t = np.exp(-dist_sq / (2 * radius_t**2))  # Shape: (width, height)\n",
    "\n",
    "            # Update weights using broadcasting\n",
    "            influence = lr_t * influence_t[..., np.newaxis]  # Shape: (width, height, 1)\n",
    "            weights += influence * (vt - weights)\n",
    "\n",
    "    return weights\n"
   ]
  },
  {
   "cell_type": "markdown",
   "metadata": {},
   "source": [
    "### Class Optimized"
   ]
  },
  {
   "cell_type": "markdown",
   "metadata": {},
   "source": [
    "### Class"
   ]
  },
  {
   "cell_type": "code",
   "execution_count": null,
   "metadata": {},
   "outputs": [],
   "source": [
    "# kohonen_update.py\n",
    "\n",
    "class KohonenTrainer:\n",
    "\n",
    "    def __init__(self, n_max_iterations, width, height):\n",
    "\n",
    "        self.n_max_iterations = n_max_iterations\n",
    "        self.width = width\n",
    "        self.height = height\n",
    "\n",
    "        self.radius_0 = max(self.width, self.height) / 2\n",
    "        self.lr_0 = 0.1\n",
    "        self.lambda_val = self.n_max_iterations / np.log(self.radius_0)\n",
    "\n",
    "        self.constants = {}\n",
    "\n",
    "        for t in range(self.n_max_iterations):\n",
    "            self.constants[t] = {\"lr_t\": self.learning_rate(t),\n",
    "                                 \"radius_t\": self.neighbour_radius(t)}\n",
    "\n",
    "    def calculate_bmu(self, weights, row_vector):\n",
    "        bmu = np.argmin(np.sum((weights - row_vector) ** 2, axis=2))\n",
    "        return np.unravel_index(bmu, (self.width, self.height))\n",
    "    \n",
    "    def influence(self, dist, radius_t):\n",
    "        return np.exp(-(dist ** 2) / (2*(radius_t ** 2)))\n",
    "\n",
    "    def euclidean_distance(self, point1, point2):\n",
    "        return np.sqrt(((point1[0] - point2[0]) ** 2) + ((point1[1] - point2[1]) ** 2))\n",
    "    \n",
    "    def neighbour_radius(self, t):\n",
    "        return self.radius_0 * np.exp(-t/self.lambda_val)\n",
    "\n",
    "    def learning_rate(self, t):\n",
    "        return self.lr_0 * np.exp(-t/self.lambda_val)\n",
    "    \n",
    "    def train(self, input_data):\n",
    "        weights = np.random.random((self.width, self.height, 3))\n",
    "        \n",
    "        for t in range(self.n_max_iterations):\n",
    "            # if t % 100 == 0:\n",
    "            print(f\"Iteration: {t}/{self.n_max_iterations}\")\n",
    "                \n",
    "            lr_t = self.constants[t][\"lr_t\"]\n",
    "            radius_t = self.constants[t][\"radius_t\"]\n",
    "            \n",
    "            for vt in input_data:    \n",
    "                bmu_x, bmu_y = self.calculate_bmu(weights, vt)\n",
    "\n",
    "                # Bounding box around the neighbourhood radius\n",
    "                window_top_left = [max(bmu_x - int(radius_t), 0), max(bmu_y - int(radius_t), 0)]\n",
    "                window_bottom_right = [min(bmu_x + int(radius_t), self.width), min(bmu_y + int(radius_t), self.height)]\n",
    "                \n",
    "                for x in range(window_top_left[0], window_bottom_right[0]):\n",
    "                    for y in range(window_top_left[1], window_bottom_right[1]):\n",
    "                        \n",
    "                        distance = self.euclidean_distance([x,y], [bmu_x, bmu_y])\n",
    "                        if distance <= radius_t:\n",
    "                            influence_t = self.influence(distance, radius_t)\n",
    "                            weights[x, y] += lr_t * influence_t * (vt - weights[x, y])\n",
    "        return weights\n"
   ]
  },
  {
   "cell_type": "markdown",
   "metadata": {},
   "source": [
    "### Testing"
   ]
  },
  {
   "cell_type": "code",
   "execution_count": null,
   "metadata": {},
   "outputs": [],
   "source": [
    "data_count = [10, 100]\n",
    "map_size = [10, 100, 1000]\n",
    "iterations = [10, 100]\n",
    "\n",
    "data_dimensions = 3"
   ]
  },
  {
   "cell_type": "code",
   "execution_count": null,
   "metadata": {},
   "outputs": [],
   "source": [
    "output_dict = {}\n",
    "output_names = {}\n",
    "\n",
    "count = 0\n",
    "\n",
    "total_start = time.time()\n",
    "\n",
    "for c in data_count:\n",
    "    for d in map_size:\n",
    "        for i in iterations:\n",
    "            input_data = input_data = np.random.random((c, data_dimensions))\n",
    "\n",
    "            print(\"\\n\")\n",
    "            print(f\"Row Count: {c}, Map Size: {d}, Iteration: {i}\")\n",
    "            \n",
    "            image_key = f\"image_{i}_{d}x{d}\"\n",
    "            time_key = f\"time_{i}_{d}x{d}\"\n",
    "            output_names[count] = [image_key, time_key, c, d, i]\n",
    "            \n",
    "            start = time.time()\n",
    "            output_dict[output_names[count][0]] = trainSOM(input_data, i, d, d)\n",
    "            end = time.time()\n",
    "            output_dict[output_names[count][1]] = end - start\n",
    "\n",
    "            count += 1\n",
    "\n",
    "total_end = time.time()"
   ]
  },
  {
   "cell_type": "markdown",
   "metadata": {},
   "source": [
    "### Output"
   ]
  },
  {
   "cell_type": "code",
   "execution_count": null,
   "metadata": {},
   "outputs": [],
   "source": [
    "fig, axes = plt.subplots(count, 1, figsize=(5,6*(count + 1)))\n",
    "\n",
    "for x in range(count):\n",
    "\n",
    "    image = output_dict[output_names[x][0]]\n",
    "    row = output_names[x][2]\n",
    "    size = output_names[x][3]\n",
    "    iter_count = output_names[x][4]\n",
    "    time_taken = round(output_dict[output_names[x][1]], 1)\n",
    "    name = f\"{row}Rows_{size}x{size}Map_{iter_count}Iters_{time_taken}Time\"\n",
    "    file_name = f\"outputs/{name}.png\"\n",
    "\n",
    "    plt.imsave(file_name, image)\n",
    "    \n",
    "    axes[x].imshow(image)\n",
    "    axes[x].set_title(f\"Input: {row} Rows, Shape: {size}x{size}, Iterations: {iter_count}\")\n",
    "    axes[x].set_xlabel(f\"Time: {time_taken} Seconds\")\n",
    "\n",
    "plt.show()"
   ]
  },
  {
   "cell_type": "code",
   "execution_count": null,
   "metadata": {},
   "outputs": [],
   "source": [
    "total_time = total_end - total_start\n",
    "print(f\"Total Time Taken: {total_time}\")"
   ]
  }
 ],
 "metadata": {
  "kernelspec": {
   "display_name": "python-ml-1",
   "language": "python",
   "name": "python-ml-1"
  },
  "language_info": {
   "codemirror_mode": {
    "name": "ipython",
    "version": 3
   },
   "file_extension": ".py",
   "mimetype": "text/x-python",
   "name": "python",
   "nbconvert_exporter": "python",
   "pygments_lexer": "ipython3",
   "version": "3.12.9"
  }
 },
 "nbformat": 4,
 "nbformat_minor": 4
}
